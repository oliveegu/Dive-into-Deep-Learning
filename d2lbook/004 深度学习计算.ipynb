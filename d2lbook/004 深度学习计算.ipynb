{
 "cells": [
  {
   "cell_type": "markdown",
   "metadata": {},
   "source": [
    "## 深度学习计算\n",
    "\n",
    "### 模型构造\n",
    "```python\n",
    "class MyModel(torch.nn.Module)\n",
    "    def __init(self, **kwargs):\n",
    "        pass\n",
    "    def forward(self, x):\n",
    "        pass       \n",
    "        \n",
    "```\n",
    "### 读取和存储\n",
    "模型训练不中断，训练的模型抽取去应用。\n"
   ]
  }
 ],
 "metadata": {
  "kernelspec": {
   "display_name": "Python 3",
   "language": "python",
   "name": "python3"
  },
  "language_info": {
   "codemirror_mode": {
    "name": "ipython",
    "version": 3
   },
   "file_extension": ".py",
   "mimetype": "text/x-python",
   "name": "python",
   "nbconvert_exporter": "python",
   "pygments_lexer": "ipython3",
   "version": "3.6.9"
  }
 },
 "nbformat": 4,
 "nbformat_minor": 2
}
