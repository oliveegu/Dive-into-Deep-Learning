{
 "cells": [
  {
   "cell_type": "markdown",
   "metadata": {},
   "source": [
    "## 前言\n",
    "\n",
    "### 应用深度学习需要同时理解：\n",
    "\n",
    "    1.问题的动机和特点；(目的)\n",
    "    2.将大量不同类型神经网络层通过特定方式组合在一起的模型背后的数学原理；（机理）\n",
    "    3.在原始数据上拟合极复杂的深层模型的优化算法；（做法）\n",
    "    4.有效训练模型、避免数值计算陷阱以及充分利用硬件性能所需的工程技能；（技巧）\n",
    "    5.为解决方案挑选合适的变量（超参数）组合的经验。（效能）\n",
    "    \n",
    "### 重要网址\n",
    "\n",
    "本书的学习社区、免费教学资源（课件、教学视频、更多习题等），以及用于本书学习或教学的免费计算资源（仅限学生和老师）的申请方法在本书网站 https://zh.d2l.ai 上发布。\n",
    "\n",
    "## 如何使用本书\n",
    "\n",
    "### 特点\n",
    "Jupyter notebook, 有强交互性，有标记语言辅助。\n",
    "\n",
    "### 面向对象\n",
    "会概率论，线性代数和微分\n",
    "python:如果读者之前没有接触过Python，可以参考中文教程 http://www.runoob.com/python/python-tutorial.html 或英文教程 http://learnpython.org/ \n",
    "\n",
    "### 讨论区\n",
    "本书的网站是 https://zh.d2l.ai ，上面提供了学习社区地址（https://discuss.gluon.ai/ ）和GitHub开源地址（https://github.com/d2l-ai/d2l-zh ）\n",
    "\n",
    "### 练习\n",
    "在本书的学习社区 https://discuss.gluon.ai/ 上注册一个账号。搜索关键字Kaggle，浏览其中回复量最大的几个帖子（学习时访问不了，g？q?）。\n"
   ]
  },
  {
   "cell_type": "code",
   "execution_count": null,
   "metadata": {},
   "outputs": [],
   "source": []
  }
 ],
 "metadata": {
  "kernelspec": {
   "display_name": "Python 3",
   "language": "python",
   "name": "python3"
  },
  "language_info": {
   "codemirror_mode": {
    "name": "ipython",
    "version": 3
   },
   "file_extension": ".py",
   "mimetype": "text/x-python",
   "name": "python",
   "nbconvert_exporter": "python",
   "pygments_lexer": "ipython3",
   "version": "3.6.9"
  }
 },
 "nbformat": 4,
 "nbformat_minor": 2
}
