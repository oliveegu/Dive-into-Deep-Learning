{
 "cells": [
  {
   "cell_type": "markdown",
   "metadata": {},
   "source": [
    "## 深度学习基础\n",
    "### 线性回归\n",
    "假设数据关系为线性关系，并使用参数描述此线性关系，衡量描述的准确与否，进行改进。\n",
    "问题：\n",
    "1.随机初始化？\n",
    "2.学习率的大小？\n",
    "3.何时结束？\n",
    "4.性能与资源消耗的平衡。\n",
    "它通过下式将输出值变换成值为正且和为1的概率分布：\n",
    "### softmax\n",
    "将输出值变换成值为正且和为1的概率分布\n",
    "\n",
    "### 图像分类数据集（Fashion-MNIST）\n",
    "下载数据\n",
    "```python\n",
    "mnist_train = torchvision.datasets.FashionMNIST(root='~/Datasets/FashionMNIST', train=True, download=True, transform=transforms.ToTensor())\n",
    "mnist_test = torchvision.datasets.FashionMNIST(root='~/Datasets/FashionMNIST', train=False, download=True, transform=transforms.ToTensor())\n",
    "```\n",
    "\n",
    "### 多层感知机\n",
    "#### 激活函数：relu,sigmoid,tanh\n",
    "\n",
    "### 模型选择、欠拟合和过拟合\n",
    "模型选择:假定数据之间的关系并设置参数\n",
    "欠拟合：数据复杂关系所选择的模型无法表达，更多数据，更多特性\n",
    "过拟合：模型复杂到足够描述数据关系\n",
    "### 权重衰减\n",
    "概念：参数不要差别太大。权重衰减通过惩罚绝对值较大的模型参数为需要学习的模型增加了限制，这可能对过拟合有效。\n",
    "\n",
    "### 丢弃法\n",
    "dropout:遗忘一些权重\n",
    "\n",
    "### 正向传播、反向传播和计算图\n",
    "forward propagation：根据模型和数据计算结果并得到损失。\n",
    "backward propagation: 根据损失计算梯度并更新模型参数。\n",
    "\n",
    "### 衰减和爆炸\n",
    "爆炸：不收敛，或造成nan\n",
    "衰减：在很低性能水平上（不能明确在何处是很低性能水平）收敛。\n",
    "\n"
   ]
  },
  {
   "cell_type": "markdown",
   "metadata": {},
   "source": []
  }
 ],
 "metadata": {
  "kernelspec": {
   "display_name": "Python 3",
   "language": "python",
   "name": "python3"
  },
  "language_info": {
   "codemirror_mode": {
    "name": "ipython",
    "version": 3
   },
   "file_extension": ".py",
   "mimetype": "text/x-python",
   "name": "python",
   "nbconvert_exporter": "python",
   "pygments_lexer": "ipython3",
   "version": "3.6.9"
  }
 },
 "nbformat": 4,
 "nbformat_minor": 2
}
