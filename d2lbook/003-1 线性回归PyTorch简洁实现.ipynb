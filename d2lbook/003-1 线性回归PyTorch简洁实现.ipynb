{
 "cells": [
  {
   "cell_type": "code",
   "execution_count": 34,
   "metadata": {},
   "outputs": [
    {
     "data": {
      "text/plain": [
       "<torch._C.Generator at 0x7ff73dc7dbb0>"
      ]
     },
     "execution_count": 34,
     "metadata": {},
     "output_type": "execute_result"
    },
    {
     "name": "stdout",
     "output_type": "stream",
     "text": [
      "1.3.1\n"
     ]
    }
   ],
   "source": [
    "import torch\n",
    "from torch import nn\n",
    "import numpy as np\n",
    "import torch.utils.data as Data\n",
    "import torch.optim as optim\n",
    "\n",
    "from IPython.core.interactiveshell import InteractiveShell\n",
    "\n",
    "InteractiveShell.ast_node_interactivity = \"all\"\n",
    "torch.manual_seed(1)\n",
    "torch.set_default_tensor_type('torch.FloatTensor')\n",
    "\n",
    "\n",
    "\n",
    "print(torch.__version__)"
   ]
  },
  {
   "cell_type": "code",
   "execution_count": 9,
   "metadata": {},
   "outputs": [],
   "source": [
    "# set input feature number \n",
    "NUM_FEATURES = 2\n",
    "# set example number\n",
    "NUM_EXAMPLES = 10000\n",
    "# set batch size\n",
    "BATCH_SZ = 10\n",
    "# set learning rate\n",
    "LEARNING_RATE = 1e-3\n",
    "# set epochs\n",
    "EPOCHS = 50\n",
    "\n",
    "# set true weight and bias in order to generate corresponded label\n",
    "TRUE_W = [2, -3.4]\n",
    "TRUE_B = 4.2"
   ]
  },
  {
   "cell_type": "code",
   "execution_count": 10,
   "metadata": {},
   "outputs": [
    {
     "data": {
      "text/plain": [
       "torch.Size([10000, 2])"
      ]
     },
     "execution_count": 10,
     "metadata": {},
     "output_type": "execute_result"
    },
    {
     "data": {
      "text/plain": [
       "tensor([[-1.5256, -0.7502]])"
      ]
     },
     "execution_count": 10,
     "metadata": {},
     "output_type": "execute_result"
    },
    {
     "data": {
      "text/plain": [
       "torch.Size([10000])"
      ]
     },
     "execution_count": 10,
     "metadata": {},
     "output_type": "execute_result"
    },
    {
     "data": {
      "text/plain": [
       "tensor([3.6894])"
      ]
     },
     "execution_count": 10,
     "metadata": {},
     "output_type": "execute_result"
    }
   ],
   "source": [
    "features = torch.randn(NUM_EXAMPLES, NUM_FEATURES, dtype=torch.float32)\n",
    "features.shape\n",
    "features[0:1]\n",
    "labels = TRUE_W[0] * features[:, 0] + TRUE_W[1] * features[:, 1] + TRUE_B\n",
    "labels += torch.tensor(np.random.normal(0, 0.01, size=labels.size()), dtype=torch.float32)\n",
    "labels.shape\n",
    "labels[0:1]"
   ]
  },
  {
   "cell_type": "code",
   "execution_count": 15,
   "metadata": {},
   "outputs": [
    {
     "data": {
      "text/plain": [
       "(tensor([-1.5256, -0.7502]), tensor(3.6894))"
      ]
     },
     "execution_count": 15,
     "metadata": {},
     "output_type": "execute_result"
    }
   ],
   "source": [
    "# combine featues and labels of dataset\n",
    "dataset = Data.TensorDataset(features, labels)\n",
    "\n",
    "next(iter(dataset))"
   ]
  },
  {
   "cell_type": "code",
   "execution_count": 16,
   "metadata": {},
   "outputs": [],
   "source": [
    "# put dataset into DataLoader\n",
    "data_iter = Data.DataLoader(\n",
    "    dataset=dataset,            # torch TensorDataset format\n",
    "    batch_size=BATCH_SZ,      # mini batch size\n",
    "    shuffle=True,               # whether shuffle the data or not\n",
    "    num_workers=4,              # read data in multithreading\n",
    ")"
   ]
  },
  {
   "cell_type": "code",
   "execution_count": 17,
   "metadata": {},
   "outputs": [
    {
     "name": "stdout",
     "output_type": "stream",
     "text": [
      "tensor([[-1.4693,  0.1884],\n",
      "        [ 1.1691,  1.1241],\n",
      "        [-1.3176, -0.5935],\n",
      "        [ 0.9301, -0.6148],\n",
      "        [ 0.3362,  0.2055],\n",
      "        [-1.2149,  0.1785],\n",
      "        [-2.1207, -0.6231],\n",
      "        [ 0.3087, -0.8816],\n",
      "        [ 0.1379, -0.6682],\n",
      "        [ 0.4606, -1.0161]]) \n",
      " tensor([0.6127, 2.7107, 3.5858, 8.1553, 4.1657, 1.1661, 2.0839, 7.8114, 6.7656,\n",
      "        8.5689])\n"
     ]
    }
   ],
   "source": [
    "for X, y in data_iter:\n",
    "    print(X, '\\n', y)\n",
    "    break\n"
   ]
  },
  {
   "cell_type": "code",
   "execution_count": 29,
   "metadata": {},
   "outputs": [
    {
     "data": {
      "text/plain": [
       "LinearReg(\n",
       "  (linear): Linear(in_features=2, out_features=1, bias=True)\n",
       ")"
      ]
     },
     "execution_count": 29,
     "metadata": {},
     "output_type": "execute_result"
    }
   ],
   "source": [
    "class LinearReg(nn.Module):\n",
    "    def __init__(self, n_feature):\n",
    "        super().__init__()      \n",
    "        # function prototype: `torch.nn.Linear(in_features=2, out_features=1, bias=True)`\n",
    "        self.linear = nn.Linear(n_feature, 1, bias=True) \n",
    "        \n",
    "    def forward(self, x):\n",
    "        y = self.linear(x)\n",
    "        return y\n",
    "    \n",
    "network = LinearReg(NUM_FEATURES)\n",
    "network"
   ]
  },
  {
   "cell_type": "code",
   "execution_count": 33,
   "metadata": {},
   "outputs": [
    {
     "name": "stdout",
     "output_type": "stream",
     "text": [
      "Parameter containing:\n",
      "tensor([[-0.0866,  0.1961]], requires_grad=True)\n",
      "Parameter containing:\n",
      "tensor([0.0349], requires_grad=True)\n"
     ]
    }
   ],
   "source": [
    "# init.normal_(network.weight, mean=0.0, std=0.03)\n",
    "# init.constant_(network.bias, val=0.0)  # or you can use `net[0].bias.data.fill_(0)` to modify it directly\n",
    "\n",
    "for param in network.parameters():\n",
    "    print(param)\n"
   ]
  },
  {
   "cell_type": "code",
   "execution_count": 35,
   "metadata": {},
   "outputs": [
    {
     "data": {
      "text/plain": [
       "SGD (\n",
       "Parameter Group 0\n",
       "    dampening: 0\n",
       "    lr: 0.001\n",
       "    momentum: 0\n",
       "    nesterov: False\n",
       "    weight_decay: 0\n",
       ")"
      ]
     },
     "execution_count": 35,
     "metadata": {},
     "output_type": "execute_result"
    }
   ],
   "source": [
    "loss = nn.MSELoss()\n",
    "optimizer = optim.SGD(network.parameters(), lr=LEARNING_RATE)\n",
    "optimizer"
   ]
  },
  {
   "cell_type": "code",
   "execution_count": 36,
   "metadata": {},
   "outputs": [
    {
     "name": "stdout",
     "output_type": "stream",
     "text": [
      "epoch 1, loss: 1.187454\n",
      "epoch 2, loss: 0.005361\n",
      "epoch 3, loss: 0.000262\n",
      "epoch 4, loss: 0.000113\n",
      "epoch 5, loss: 0.000055\n",
      "epoch 6, loss: 0.000107\n",
      "epoch 7, loss: 0.000035\n",
      "epoch 8, loss: 0.000096\n",
      "epoch 9, loss: 0.000079\n",
      "epoch 10, loss: 0.000053\n",
      "epoch 11, loss: 0.000117\n",
      "epoch 12, loss: 0.000177\n",
      "epoch 13, loss: 0.000025\n",
      "epoch 14, loss: 0.000112\n",
      "epoch 15, loss: 0.000107\n",
      "epoch 16, loss: 0.000182\n",
      "epoch 17, loss: 0.000090\n",
      "epoch 18, loss: 0.000112\n",
      "epoch 19, loss: 0.000282\n",
      "epoch 20, loss: 0.000178\n",
      "epoch 21, loss: 0.000047\n",
      "epoch 22, loss: 0.000059\n",
      "epoch 23, loss: 0.000214\n",
      "epoch 24, loss: 0.000117\n",
      "epoch 25, loss: 0.000062\n",
      "epoch 26, loss: 0.000066\n",
      "epoch 27, loss: 0.000121\n",
      "epoch 28, loss: 0.000140\n",
      "epoch 29, loss: 0.000054\n",
      "epoch 30, loss: 0.000132\n",
      "epoch 31, loss: 0.000129\n",
      "epoch 32, loss: 0.000106\n",
      "epoch 33, loss: 0.000103\n",
      "epoch 34, loss: 0.000034\n",
      "epoch 35, loss: 0.000045\n",
      "epoch 36, loss: 0.000191\n",
      "epoch 37, loss: 0.000052\n",
      "epoch 38, loss: 0.000109\n",
      "epoch 39, loss: 0.000054\n",
      "epoch 40, loss: 0.000100\n",
      "epoch 41, loss: 0.000107\n",
      "epoch 42, loss: 0.000104\n",
      "epoch 43, loss: 0.000083\n",
      "epoch 44, loss: 0.000108\n",
      "epoch 45, loss: 0.000229\n",
      "epoch 46, loss: 0.000121\n",
      "epoch 47, loss: 0.000073\n",
      "epoch 48, loss: 0.000067\n",
      "epoch 49, loss: 0.000113\n",
      "epoch 50, loss: 0.000096\n"
     ]
    }
   ],
   "source": [
    "for epoch in range(1, EPOCHS + 1):\n",
    "    for X, y in data_iter:\n",
    "        output = network(X)\n",
    "        l = loss(output, y.view(-1, 1))\n",
    "        optimizer.zero_grad() # reset gradient, equal to net.zero_grad()\n",
    "        l.backward()\n",
    "        optimizer.step()\n",
    "    print('epoch %d, loss: %f' % (epoch, l.item()))"
   ]
  },
  {
   "cell_type": "code",
   "execution_count": 46,
   "metadata": {},
   "outputs": [
    {
     "name": "stdout",
     "output_type": "stream",
     "text": [
      "linear.weight\n",
      "tensor([[ 1.9999, -3.4000]])\n",
      "linear.bias\n",
      "tensor([4.2000])\n"
     ]
    }
   ],
   "source": [
    "# result comparision\n",
    "for name, param in network.named_parameters():\n",
    "    if param.requires_grad:\n",
    "        print(name)\n",
    "        print(param.data)\n",
    "\n"
   ]
  },
  {
   "cell_type": "code",
   "execution_count": 47,
   "metadata": {},
   "outputs": [
    {
     "data": {
      "text/plain": [
       "([2, -3.4], 4.2)"
      ]
     },
     "execution_count": 47,
     "metadata": {},
     "output_type": "execute_result"
    }
   ],
   "source": [
    "TRUE_W, TRUE_B"
   ]
  },
  {
   "cell_type": "code",
   "execution_count": null,
   "metadata": {},
   "outputs": [],
   "source": []
  }
 ],
 "metadata": {
  "kernelspec": {
   "display_name": "Python 3",
   "language": "python",
   "name": "python3"
  },
  "language_info": {
   "codemirror_mode": {
    "name": "ipython",
    "version": 3
   },
   "file_extension": ".py",
   "mimetype": "text/x-python",
   "name": "python",
   "nbconvert_exporter": "python",
   "pygments_lexer": "ipython3",
   "version": "3.6.9"
  },
  "toc": {
   "base_numbering": 1,
   "nav_menu": {},
   "number_sections": true,
   "sideBar": true,
   "skip_h1_title": false,
   "title_cell": "Table of Contents",
   "title_sidebar": "Contents",
   "toc_cell": false,
   "toc_position": {},
   "toc_section_display": true,
   "toc_window_display": false
  }
 },
 "nbformat": 4,
 "nbformat_minor": 4
}
