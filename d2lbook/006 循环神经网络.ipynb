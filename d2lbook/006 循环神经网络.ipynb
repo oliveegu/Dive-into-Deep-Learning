{
 "cells": [
  {
   "cell_type": "markdown",
   "metadata": {},
   "source": [
    "## 循环神经网络\n",
    "针对时间或空间分割（或相互影响的阶段）考虑历史或序列的影响而构建的神经网络。\n",
    "其最重要的特征是：将历史信息加入到当前阶段。\n",
    "### 语言模型\n",
    "如何合理地将语言（一种时间（语音）或空间的序列（文字）），经过训练判断语言是合理概率的描述。\n",
    "### 门控循环单元（GRU）\n",
    "解决梯度弥散或爆炸问题\n",
    "### LSMT\n",
    "梯度衰减问题\n"
   ]
  }
 ],
 "metadata": {
  "kernelspec": {
   "display_name": "Python 3",
   "language": "python",
   "name": "python3"
  },
  "language_info": {
   "codemirror_mode": {
    "name": "ipython",
    "version": 3
   },
   "file_extension": ".py",
   "mimetype": "text/x-python",
   "name": "python",
   "nbconvert_exporter": "python",
   "pygments_lexer": "ipython3",
   "version": "3.6.9"
  }
 },
 "nbformat": 4,
 "nbformat_minor": 2
}
